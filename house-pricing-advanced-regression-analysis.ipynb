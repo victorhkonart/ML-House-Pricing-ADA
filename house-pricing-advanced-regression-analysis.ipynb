{
 "cells": [
  {
   "cell_type": "code",
   "execution_count": null,
   "metadata": {},
   "outputs": [],
   "source": [
    "import numpy as np # linear algebra\n",
    "import pandas as pd # data processing, CSV file I/O (e.g. pd.read_csv)\n",
    "import seaborn as sns\n",
    "import matplotlib.pyplot as plt\n",
    "\n",
    "# input data files are available in the read-only \"kaggle/input\" directory\n",
    "# for example, running this (by clicking run or pressing Shift+Enter) will install all files under the input directory\n",
    "\n",
    "import os\n",
    "for dirname, _, filenames in os.walk('kaggle/input'):\n",
    "    for filename in filenames:\n",
    "        print(os.path.join(dirname, filename))\n",
    "\n",
    "# you can write up to 20GB to the current directory (kaggle/working) that gets preserved as output when you create a version using \"Save & Run All\"\n",
    "\n",
    "# you can also write temporary files to 'kaggle/temp', but they won't be saved outside of the current session"
   ]
  },
  {
   "cell_type": "code",
   "execution_count": null,
   "metadata": {},
   "outputs": [],
   "source": [
    "from sklearn.preprocessing import StandardScaler, LabelEncoder\n",
    "from sklearn.decomposition import PCA \n",
    "from sklearn.pipeline import Pipeline\n",
    "from sklearn.model_selection import cross_val_score, GridSearchCV, train_test_split\n",
    "from sklearn.linear_model import LinearRegression, Ridge, Lasso, ElasticNet\n",
    "from sklearn.neighbors import KNeighborsRegressor\n",
    "from sklearn.tree import DecisionTreeRegressor\n",
    "from sklearn.ensemble import RandomForestRegressor\n",
    "from sklearn.svm import SVR\n",
    "from sklearn.metrics import mean_absolute_error, mean_squared_error"
   ]
  },
  {
   "cell_type": "code",
   "execution_count": null,
   "metadata": {},
   "outputs": [],
   "source": [
    "df = pd.read_csv('kaggle/input/house-prices-advanced-regression-techniques/train.csv')\n",
    "\n",
    "test = pd.read_csv('kaggle/input/house-prices-advanced-regression-techniques/test.csv')"
   ]
  },
  {
   "cell_type": "code",
   "execution_count": null,
   "metadata": {},
   "outputs": [],
   "source": [
    "df"
   ]
  },
  {
   "cell_type": "code",
   "execution_count": null,
   "metadata": {},
   "outputs": [],
   "source": [
    "# PREPARING THE DATA\n",
    "\n",
    "df.set_index('Id', inplace = True)"
   ]
  },
  {
   "cell_type": "code",
   "execution_count": null,
   "metadata": {},
   "outputs": [],
   "source": [
    "df.info()"
   ]
  },
  {
   "cell_type": "code",
   "execution_count": null,
   "metadata": {},
   "outputs": [],
   "source": [
    "len(df)"
   ]
  },
  {
   "cell_type": "code",
   "execution_count": null,
   "metadata": {},
   "outputs": [],
   "source": [
    "for col in df.columns:\n",
    "    if df[col].isnull().sum() > 0:\n",
    "        print('%s has %d null values'%(col, df[col].isnull().sum())) "
   ]
  },
  {
   "cell_type": "code",
   "execution_count": null,
   "metadata": {},
   "outputs": [],
   "source": [
    "more_than_1000 = ['Alley', 'PoolQC', 'Fence', 'MiscFeature']\n",
    "\n",
    "df.drop(more_than_1000, axis = 1, inplace = True)\n",
    "test.drop(more_than_1000, axis = 1, inplace = True)"
   ]
  },
  {
   "cell_type": "code",
   "execution_count": null,
   "metadata": {},
   "outputs": [],
   "source": [
    "df[df['GarageType'].isna()][['GarageYrBlt', 'GarageFinish', 'GarageQual', 'GarageCond']].isna().sum()"
   ]
  },
  {
   "cell_type": "code",
   "execution_count": null,
   "metadata": {},
   "outputs": [],
   "source": [
    "garage = ['GarageType', 'GarageYrBlt', 'GarageFinish', 'GarageQual', 'GarageCond']\n",
    "\n",
    "for g in garage:\n",
    "\n",
    "    df[g] = df[g].fillna('NA')\n",
    "    test[g] = test[g].fillna('NA')\n",
    "\n",
    "df['GarageYrBlt'] = df['GarageYrBlt'].astype('str')\n",
    "test['GarageYrBlt'] = test['GarageYrBlt'].astype('str')"
   ]
  },
  {
   "cell_type": "code",
   "execution_count": null,
   "metadata": {},
   "outputs": [],
   "source": [
    "df.corr()['LotFrontage'].sort_values(ascending = False)[1:5]"
   ]
  },
  {
   "cell_type": "code",
   "execution_count": null,
   "metadata": {},
   "outputs": [],
   "source": [
    "df['MasVnrType'] = df['MasVnrType'].fillna('None')\n",
    "df['MasVnrArea'] = df['MasVnrArea'].fillna(0)\n",
    "\n",
    "test['MasVnrType'] = test['MasVnrType'].fillna('None')\n",
    "test['MasVnrArea'] = test['MasVnrArea'].fillna(0)\n",
    "\n",
    "df['Electrical'] = df['Electrical'].fillna('Mix')\n",
    "test['Electrical'] = test['Electrical'].fillna('Mix')"
   ]
  },
  {
   "cell_type": "code",
   "execution_count": null,
   "metadata": {},
   "outputs": [],
   "source": [
    "df[df['BsmtQual'].isnull()][['BsmtCond', 'BsmtExposure', 'BsmtFinType1', 'BsmtFinType2']].isna().sum()"
   ]
  },
  {
   "cell_type": "code",
   "execution_count": null,
   "metadata": {},
   "outputs": [],
   "source": [
    "for c in range(len(df.columns)):\n",
    "    if 'Bsmt' in df.columns[c]:\n",
    "        print('%s-->%d'%(df.columns[c], c))"
   ]
  },
  {
   "cell_type": "code",
   "execution_count": null,
   "metadata": {},
   "outputs": [],
   "source": [
    "df[~(df['BsmtQual'].isnull()) & (df['BsmtExposure'].isnull())]"
   ]
  },
  {
   "cell_type": "code",
   "execution_count": null,
   "metadata": {},
   "outputs": [],
   "source": [
    "df.iat[948,31] = 'No'"
   ]
  },
  {
   "cell_type": "code",
   "execution_count": null,
   "metadata": {},
   "outputs": [],
   "source": [
    "df[~(df['BsmtQual'].isnull()) & (df['BsmtFinType2'].isnull())]"
   ]
  },
  {
   "cell_type": "code",
   "execution_count": null,
   "metadata": {},
   "outputs": [],
   "source": [
    "df.iat[332, 34] = 'Unf'"
   ]
  },
  {
   "cell_type": "code",
   "execution_count": null,
   "metadata": {},
   "outputs": [],
   "source": [
    "basement = ['Qual', 'Cond', 'Exposure', 'FinType1', 'FinType2']\n",
    "\n",
    "for b in basement:\n",
    "\n",
    "    df['Bsmt' + b] = df['Bsmt' + b].fillna('NA')\n",
    "    test['Bsmt' + b] = test['Bsmt' + b].fillna('NA')"
   ]
  },
  {
   "cell_type": "code",
   "execution_count": null,
   "metadata": {},
   "outputs": [],
   "source": [
    "test.isna().sum()[test.isna().sum() > 0]"
   ]
  },
  {
   "cell_type": "code",
   "execution_count": null,
   "metadata": {},
   "outputs": [],
   "source": [
    "test.set_index('Id', inplace = True) "
   ]
  },
  {
   "cell_type": "code",
   "execution_count": null,
   "metadata": {},
   "outputs": [],
   "source": [
    "test['MSZoning'] = test['MSZoning'].fillna(test['MSZoning'].mode())\n",
    "test['Utilities'] = test['Utilities'].fillna('AllPub')\n",
    "\n",
    "test['Exterior1st'] = test['Exterior1st'].fillna('VinylSd')\n",
    "test['Exterior2nd'] = test['Exterior2nd'].fillna('VinylSd')"
   ]
  },
  {
   "cell_type": "code",
   "execution_count": null,
   "metadata": {},
   "outputs": [],
   "source": [
    "test[test['BsmtFinSF1'].isna()][['BsmtUnfSF', 'BsmtFinSF2', 'TotalBsmtSF', 'BsmtCond', 'BsmtFullBath']]"
   ]
  },
  {
   "cell_type": "code",
   "execution_count": null,
   "metadata": {},
   "outputs": [],
   "source": [
    "test[test['BsmtFullBath'].isna()].iloc[:, 45:47].index"
   ]
  },
  {
   "cell_type": "code",
   "execution_count": null,
   "metadata": {},
   "outputs": [],
   "source": [
    "test.at[2189, 'BsmtHalfBath'] = 0\n",
    "test.at[2189, 'BsmtFullBath'] = 0"
   ]
  },
  {
   "cell_type": "code",
   "execution_count": null,
   "metadata": {},
   "outputs": [],
   "source": [
    "test['BsmtFinSF1'] = test['BsmtFinSF1'].fillna(0)\n",
    "test['BsmtFinSF2'] = test['BsmtFinSF2'].fillna(0)\n",
    "\n",
    "test['BsmtUnfSF']= test['BsmtUnfSF'].fillna(0)\n",
    "\n",
    "test['BsmtFullBath'] = test['BsmtFullBath'].fillna(0)\n",
    "test['BsmtHalfBath'] = test['BsmtHalfBath'].fillna(0)"
   ]
  },
  {
   "cell_type": "code",
   "execution_count": null,
   "metadata": {},
   "outputs": [],
   "source": [
    "test['KitchenQual'] = test['KitchenQual'].fillna(df['KitchenQual'].mode().loc[0])\n",
    "test['Functional'] = test['Functional'].fillna(df['Functional'].mode().loc[0])\n",
    "\n",
    "test['GarageCars'] = test['GarageCars'].fillna(df['GarageCars'].mode().loc[0])\n",
    "test['GarageArea'] = test['GarageArea'].fillna(df['GarageArea'].mean())\n",
    "\n",
    "test['SaleType'] = test['SaleType'].fillna(df['SaleType'].mode().loc[0])"
   ]
  },
  {
   "cell_type": "code",
   "execution_count": null,
   "metadata": {},
   "outputs": [],
   "source": [
    "# APPLYING LINEAR REGRESSION FOR DATA IMPUTATION\n",
    "\n",
    "from sklearn.preprocessing import StandardScaler\n",
    "from sklearn.linear_model import LinearRegression\n",
    "\n",
    "cols = ['1stFlrSF', 'LotArea', 'GrLivArea', 'TotalBsmtSF', 'LotFrontage']\n",
    "\n",
    "lotfront_df = df[cols].copy()\n",
    "null_lotfront_df = lotfront_df[lotfront_df['LotFrontage'].isnull()].copy()\n",
    "lotfront_df.dropna(inplace = True)\n",
    "\n",
    "X = lotfront_df.drop('LotFrontage', axis = 1)\n",
    "y = lotfront_df['LotFrontage']\n",
    "\n",
    "sc = StandardScaler()\n",
    "X_sc = sc.fit_transform(X)\n",
    "\n",
    "lr = LinearRegression()\n",
    "lr.fit(X_sc, y)\n",
    "\n",
    "test_X = null_lotfront_df.drop('LotFrontage', axis = 1)\n",
    "fill_null = np.round(lr.predict(sc.transform(test_X)), 2)\n",
    "null_lotfront_df['LotFrontage'] = fill_null\n",
    "\n",
    "lotfront_df = pd.concat([lotfront_df, null_lotfront_df], axis = 0)\n",
    "df['LotFrontage'] = lotfront_df['LotFrontage']"
   ]
  },
  {
   "cell_type": "code",
   "execution_count": null,
   "metadata": {},
   "outputs": [],
   "source": [
    "lotfront_test = test[cols].copy()\n",
    "null_lotfront_test = lotfront_test[lotfront_test['LotFrontage'].isnull()].copy()\n",
    "lotfront_test.dropna(inplace = True)\n",
    "\n",
    "X = lotfront_test.drop('LotFrontage', axis = 1)\n",
    "y = lotfront_test['LotFrontage']\n",
    "\n",
    "X_sc = sc.transform(X)\n",
    "\n",
    "test_X = null_lotfront_test.drop('LotFrontage', axis = 1)\n",
    "fill_null = np.round(lr.predict(sc.transform(test_X)), 2)\n",
    "null_lotfront_test['LotFrontage'] = fill_null\n",
    "\n",
    "lotfront_test = pd.concat([lotfront_test, null_lotfront_test], axis = 0)\n",
    "test['LotFrontage'] = lotfront_test['LotFrontage']"
   ]
  },
  {
   "cell_type": "code",
   "execution_count": null,
   "metadata": {},
   "outputs": [],
   "source": [
    "df['FireplaceQu'] = df['FireplaceQu'].fillna('NA')\n",
    "test['FireplaceQu'] = test['FireplaceQu'].fillna('NA')"
   ]
  },
  {
   "cell_type": "code",
   "execution_count": null,
   "metadata": {},
   "outputs": [],
   "source": [
    "test['MSZoning'] = test['MSZoning'].fillna('RL')"
   ]
  },
  {
   "cell_type": "code",
   "execution_count": null,
   "metadata": {},
   "outputs": [],
   "source": [
    "for col in df.columns:\n",
    "    if df[col].isnull().sum() > 0:\n",
    "\n",
    "        print('%s has %d null values'%(col, df[col].isnull().sum()))"
   ]
  },
  {
   "cell_type": "code",
   "execution_count": null,
   "metadata": {},
   "outputs": [],
   "source": [
    "for col in test.columns:\n",
    "    if test[col].isnull().sum() > 0:\n",
    "\n",
    "        print('%s has %d null values'%(col, test[col].isnull().sum()))"
   ]
  },
  {
   "cell_type": "code",
   "execution_count": null,
   "metadata": {},
   "outputs": [],
   "source": [
    "to_str = ['MSSubClass','OverallQual','OverallCond','YearBuilt','YearRemodAdd','YrSold','MoSold','GarageCars','FullBath','Fireplaces','TotRmsAbvGrd']\n",
    "\n",
    "for c in to_str:\n",
    "\n",
    "    df[c] = df[c].astype(str)\n",
    "    test[c] = test[c].astype(str)"
   ]
  },
  {
   "cell_type": "code",
   "execution_count": null,
   "metadata": {},
   "outputs": [],
   "source": [
    "# EDA AND DATA TRANSFORMATION\n",
    "\n",
    "from copy import copy\n",
    "\n",
    "my_cmap = copy(plt.cm.YlGnBu)\n",
    "\n",
    "my_cmap.set_over(\"white\")\n",
    "my_cmap.set_under(\"white\")\n",
    "\n",
    "plt.figure(figsize = (10,6), dpi = 200)\n",
    "\n",
    "sns.heatmap(df.corr(), vmin = 0.3, vmax = 0.99, cmap = my_cmap, linewidths = 1.0)"
   ]
  },
  {
   "cell_type": "code",
   "execution_count": null,
   "metadata": {},
   "outputs": [],
   "source": [
    "small_corr_feats = ['LotArea','BsmtFinSF2','BsmtUnfSF','LowQualFinSF','BsmtFullBath','BsmtHalfBath','HalfBath','BedroomAbvGr','KitchenAbvGr','EnclosedPorch','3SsnPorch','ScreenPorch','PoolArea','MiscVal']\n",
    "\n",
    "reduced_df = df.drop(small_corr_feats, axis = 1)\n",
    "reduced_test = test.drop(small_corr_feats, axis = 1)"
   ]
  },
  {
   "cell_type": "code",
   "execution_count": null,
   "metadata": {},
   "outputs": [],
   "source": [
    "plt.figure(figsize = (10,6), dpi = 200)\n",
    "\n",
    "sns.heatmap(reduced_df.corr(), cmap = my_cmap, vmin = 0.2, linewidths = 1.0)"
   ]
  },
  {
   "cell_type": "code",
   "execution_count": null,
   "metadata": {},
   "outputs": [],
   "source": [
    "num_cols = []\n",
    "\n",
    "for c in reduced_df.columns:\n",
    "\n",
    "    if c == 'SalePrice':\n",
    "\n",
    "        continue\n",
    "\n",
    "    else:\n",
    "\n",
    "        if type(reduced_df[c].iloc[0]) is np.int64 or type(reduced_df[c].iloc[0]) is np.float64:\n",
    "\n",
    "            num_cols.append(c)\n",
    "\n",
    "fig, ax_arr = plt.subplots(nrows = 5, ncols = 2, figsize = (25,25))\n",
    "k = 0\n",
    "\n",
    "for i in range(5):\n",
    "\n",
    "    for j in range(2):\n",
    "\n",
    "        sns.scatterplot(x = num_cols[k], y = 'SalePrice', data = reduced_df, ax = ax_arr[i][j])\n",
    "\n",
    "        k += 1\n"
   ]
  },
  {
   "cell_type": "code",
   "execution_count": null,
   "metadata": {},
   "outputs": [],
   "source": [
    "fig,ax_arr = plt.subplots(nrows = 5, ncols = 2, figsize = (25,25))\n",
    "k = 0\n",
    "\n",
    "for i in range(5):\n",
    "\n",
    "    for j in range(2):\n",
    "\n",
    "        sns.histplot(x = num_cols[k], kde = True, data = reduced_df, ax = ax_arr[i][j])\n",
    "\n",
    "        k += 1"
   ]
  },
  {
   "cell_type": "code",
   "execution_count": null,
   "metadata": {},
   "outputs": [],
   "source": [
    "for c in reduced_df.columns:\n",
    "\n",
    "    if 'Blt' in c or 'Sold' in c or 'Built' in c:\n",
    "\n",
    "        print(c)"
   ]
  },
  {
   "cell_type": "code",
   "execution_count": null,
   "metadata": {},
   "outputs": [],
   "source": [
    "reduced_df['YrsBtw'] = np.zeros(len(reduced_df))\n",
    "reduced_test['YrsBtw'] = np.zeros(len(reduced_test))\n",
    "\n",
    "for i in range(len(reduced_df)):\n",
    "\n",
    "    reduced_df.iat[i,len(reduced_df.columns) - 1] = int(reduced_df.iloc[i]['YrSold']) - int(reduced_df.iloc[i]['YearBuilt'])\n",
    "\n",
    "for i in range(len(reduced_test)):\n",
    "\n",
    "    reduced_test.iat[i,len(reduced_test.columns) - 1] = int(reduced_test.iloc[i]['YrSold']) - int(reduced_test.iloc[i]['YearBuilt'])"
   ]
  },
  {
   "cell_type": "code",
   "execution_count": null,
   "metadata": {},
   "outputs": [],
   "source": [
    "reduced_df['YrsBtw']"
   ]
  },
  {
   "cell_type": "code",
   "execution_count": null,
   "metadata": {},
   "outputs": [],
   "source": [
    "sns.scatterplot(x = 'YrsBtw', y = 'SalePrice', data = reduced_df)"
   ]
  },
  {
   "cell_type": "code",
   "execution_count": null,
   "metadata": {},
   "outputs": [],
   "source": [
    "reduced_df['Remod'] = np.zeros(len(reduced_df))\n",
    "reduced_test['Remod'] = np.zeros(len(reduced_test))\n",
    "\n",
    "for i in range(len(reduced_df)):\n",
    "\n",
    "    diff = int(reduced_df.iloc[i]['YearBuilt']) - int(reduced_df.iloc[i]['YearRemodAdd'])\n",
    "\n",
    "    reduced_df.at[i+1, 'Remod'] = np.where(diff > 0, 1, 0)\n",
    "\n",
    "for i in range(len(reduced_test)):\n",
    "\n",
    "    diff = int(reduced_test.iloc[i]['YearBuilt']) - int(reduced_test.iloc[i]['YearRemodAdd'])\n",
    "\n",
    "    reduced_test.iat[i, len(reduced_test.columns) - 1] = np.where(diff > 0, 1, 0)    "
   ]
  },
  {
   "cell_type": "code",
   "execution_count": null,
   "metadata": {},
   "outputs": [],
   "source": [
    "sns.scatterplot(x = 'YrsBtw', y = 'SalePrice', hue = 'Remod', data = reduced_df)"
   ]
  },
  {
   "cell_type": "code",
   "execution_count": null,
   "metadata": {},
   "outputs": [],
   "source": [
    "reduced_df.drop(['Remod', 'YearRemodAdd'], axis = 1, inplace = True)\n",
    "reduced_test.drop(['Remod', 'YearRemodAdd'], axis = 1, inplace = True)\n",
    "\n",
    "df.drop('YearRemodAdd', axis = 1, inplace = True)\n",
    "test.drop('YearRemodAdd', axis = 1, inplace = True)"
   ]
  },
  {
   "cell_type": "code",
   "execution_count": null,
   "metadata": {},
   "outputs": [],
   "source": [
    "cat_cols = reduced_df.select_dtypes(include = object).columns\n"
   ]
  },
  {
   "cell_type": "code",
   "execution_count": null,
   "metadata": {},
   "outputs": [],
   "source": [
    "# TQC ANALYSIS - TYPE, QUALITY AND CONDITION\n",
    "\n",
    "tqc_cols = []\n",
    "\n",
    "for c in cat_cols:\n",
    "\n",
    "    if 'type' in c.lower() or 'qual' in c.lower() or 'cond' in c.lower():\n",
    "\n",
    "        tqc_cols.append(c)\n",
    "\n",
    "print(len(tqc_cols))"
   ]
  },
  {
   "cell_type": "code",
   "execution_count": null,
   "metadata": {},
   "outputs": [],
   "source": [
    "fig, ax_arr = plt.subplots(nrows = 9, ncols = 2, figsize = (25,30))\n",
    "k = 0\n",
    "\n",
    "for i in range(9):\n",
    "\n",
    "    for j in range(2):\n",
    "\n",
    "        sns.countplot(y = tqc_cols[k], data = reduced_df, ax = ax_arr[i][j])\n",
    "        k += 1\n",
    "\n",
    "fig.tight_layout()"
   ]
  },
  {
   "cell_type": "code",
   "execution_count": null,
   "metadata": {},
   "outputs": [],
   "source": [
    "fig,ax_arr = plt.subplots(nrows = 9, ncols = 2, figsize = (25,30))\n",
    "k = 0\n",
    "\n",
    "for i in range(9):\n",
    "\n",
    "    for j in range(2):\n",
    "\n",
    "        sns.boxplot(x=tqc_cols[k],y='SalePrice',data=reduced_df,ax=ax_arr[i][j])\n",
    "\n",
    "        ax_arr[i][j].set_title(\"%s v SalePrice\"%(tqc_cols[k]))\n",
    "\n",
    "        k+=1\n",
    "\n",
    "fig.tight_layout()\n",
    "\n"
   ]
  },
  {
   "cell_type": "code",
   "execution_count": null,
   "metadata": {},
   "outputs": [],
   "source": [
    "# MODEL PREPARATION\n",
    "\n",
    "reduced_df.drop('YearBuilt', axis = 1, inplace = True)\n",
    "reduced_test.drop('YearBuilt', axis = 1, inplace = True)"
   ]
  },
  {
   "cell_type": "code",
   "execution_count": null,
   "metadata": {},
   "outputs": [],
   "source": [
    "reduced_df.drop('GarageYrBlt', axis = 1, inplace = True)\n",
    "reduced_test.drop('GarageYrBlt', axis = 1, inplace = True)"
   ]
  },
  {
   "cell_type": "code",
   "execution_count": null,
   "metadata": {},
   "outputs": [],
   "source": [
    "reduced_df.drop('YrSold', axis = 1, inplace = True)\n",
    "reduced_test.drop('YrSold', axis = 1, inplace = True)"
   ]
  },
  {
   "cell_type": "code",
   "execution_count": null,
   "metadata": {},
   "outputs": [],
   "source": [
    "reduced_df.shape, reduced_test.shape"
   ]
  },
  {
   "cell_type": "code",
   "execution_count": null,
   "metadata": {},
   "outputs": [],
   "source": [
    "reduced_df_enc = pd.get_dummies(reduced_df, drop_first = True)\n",
    "reduced_test_enc = pd.get_dummies(reduced_test, drop_first = True)"
   ]
  },
  {
   "cell_type": "code",
   "execution_count": null,
   "metadata": {},
   "outputs": [],
   "source": [
    "reduced_df_enc.shape, reduced_test_enc.shape"
   ]
  },
  {
   "cell_type": "code",
   "execution_count": null,
   "metadata": {},
   "outputs": [],
   "source": [
    "set1 = set(reduced_df_enc.columns)\n",
    "set2 = set(reduced_test_enc.columns)\n",
    "\n",
    "set1.difference(set2)"
   ]
  },
  {
   "cell_type": "code",
   "execution_count": null,
   "metadata": {},
   "outputs": [],
   "source": [
    "reduced_df.drop(reduced_df[reduced_df['Electrical'] == 'Mix'].index, inplace = True)"
   ]
  },
  {
   "cell_type": "code",
   "execution_count": null,
   "metadata": {},
   "outputs": [],
   "source": [
    "to_remove_cols = {'BsmtFinType1','Condition2','Exterior1st','Exterior2nd','GarageCars','Heating','HouseStyle','RoofMatl','TotRmsAbvGrd','Utilities','GarageQual','MSSubClass','FullBath','Fireplaces'}\n",
    "\n",
    "reduced_df.drop(to_remove_cols, inplace = True, axis = 1)\n",
    "reduced_test.drop(to_remove_cols, inplace = True, axis = 1)\n",
    "\n",
    "reduced_df_enc = pd.get_dummies(reduced_df, drop_first = True)\n",
    "reduced_test_enc = pd.get_dummies(reduced_test, drop_first = True)\n",
    "\n",
    "print(reduced_df_enc.shape, reduced_test_enc.shape)"
   ]
  },
  {
   "cell_type": "code",
   "execution_count": null,
   "metadata": {},
   "outputs": [],
   "source": [
    "X = reduced_df_enc.drop('SalePrice', axis = 1)\n",
    "y = reduced_df_enc['SalePrice']\n",
    "\n",
    "X_train, X_test, y_train, y_test = train_test_split(X, y, test_size = 0.2, random_state = 1)"
   ]
  },
  {
   "cell_type": "code",
   "execution_count": null,
   "metadata": {},
   "outputs": [],
   "source": [
    "sc = StandardScaler()\n",
    "\n",
    "X_train_sc = sc.fit_transform(X_train)"
   ]
  },
  {
   "cell_type": "code",
   "execution_count": null,
   "metadata": {},
   "outputs": [],
   "source": [
    "epvr = []\n",
    "\n",
    "for n_c in range(70,151):\n",
    "\n",
    "    pca = PCA(n_components = n_c)\n",
    "    pca.fit(X_train_sc)\n",
    "\n",
    "    epvr.append(sum(pca.explained_variance_ratio_))"
   ]
  },
  {
   "cell_type": "code",
   "execution_count": null,
   "metadata": {},
   "outputs": [],
   "source": [
    "len(epvr)"
   ]
  },
  {
   "cell_type": "code",
   "execution_count": null,
   "metadata": {},
   "outputs": [],
   "source": [
    "plt.plot([x for x in range(70,151)], epvr, linestyle = '--')"
   ]
  },
  {
   "cell_type": "code",
   "execution_count": null,
   "metadata": {},
   "outputs": [],
   "source": [
    "pca = PCA(n_components = 150)\n",
    "\n",
    "X_train_sc_pca = pca.fit_transform(X_train_sc)"
   ]
  },
  {
   "cell_type": "code",
   "execution_count": null,
   "metadata": {},
   "outputs": [],
   "source": [
    "models = [LinearRegression(),Ridge(),Lasso(),ElasticNet(),KNeighborsRegressor(),SVR(),DecisionTreeRegressor(),RandomForestRegressor()]\n",
    "\n",
    "def base_model_errors(models,X,y):\n",
    "\n",
    "    ind = []\n",
    "    srs = []\n",
    "\n",
    "    for model in models:\n",
    "\n",
    "        scores = cross_val_score(estimator = model, X = X, y = y, cv = 5)\n",
    "        scores.sort()\n",
    "\n",
    "        srs.append(scores)\n",
    "        ind.append(str(model)[:-2])\n",
    "\n",
    "    return pd.DataFrame(index = ind, data = srs, columns = ['S1','S2','S3','S4','S5'])\n",
    "\n",
    "error_df = base_model_errors(models = models, X = X_train_sc_pca, y = y_train)\n"
   ]
  },
  {
   "cell_type": "code",
   "execution_count": null,
   "metadata": {},
   "outputs": [],
   "source": [
    "error_df"
   ]
  },
  {
   "cell_type": "code",
   "execution_count": null,
   "metadata": {},
   "outputs": [],
   "source": [
    "models[4].n_neighbors"
   ]
  },
  {
   "cell_type": "code",
   "execution_count": null,
   "metadata": {},
   "outputs": [],
   "source": [
    "models[6].get_params()"
   ]
  },
  {
   "cell_type": "code",
   "execution_count": null,
   "metadata": {},
   "outputs": [],
   "source": [
    "models[7].get_params()"
   ]
  },
  {
   "cell_type": "code",
   "execution_count": null,
   "metadata": {},
   "outputs": [],
   "source": [
    "models1 = [ElasticNet(),KNeighborsRegressor(),DecisionTreeRegressor(),RandomForestRegressor()]\n",
    "\n",
    "param_grid1 = [\n",
    "    {\n",
    "        'alpha': [0.5,1,2,3,4,10,20,30,40,50,60,70,80,90,95,100],\n",
    "        'l1_ratio': [0.1,0.2,0.3,0.4,0.5,0.6,0.7,0.8,0.9]\n",
    "    },\n",
    "    {\n",
    "        'n_neighbors': [4,5,6,7]\n",
    "    },\n",
    "    {\n",
    "        'max_depth': [4,5,6,None]\n",
    "    },\n",
    "    {\n",
    "        'n_estimators': [100,150,200],\n",
    "        'max_depth': [4,5,6,None]\n",
    "    }\n",
    "]\n",
    "\n",
    "def models_best_params(models,param_grids, X, y):\n",
    "\n",
    "    for i in range(len(models)):\n",
    "    \n",
    "        gm = GridSearchCV(estimator = models[i], param_grid = param_grids[i], cv = 5)\n",
    "        gm.fit(X,y)\n",
    "        \n",
    "        print(\"%s's best parameters are..\"%(str(models[i])))\n",
    "        print(gm.best_params_)\n",
    "        \n",
    "        print(\"%s's best score is..\"%(str(models[i])))\n",
    "        print(gm.best_score_)\n",
    "\n",
    "models_best_params(models = models1, param_grids = param_grid1, X = X_train_sc_pca, y = y_train)\n"
   ]
  },
  {
   "cell_type": "code",
   "execution_count": null,
   "metadata": {},
   "outputs": [],
   "source": [
    "models2 = [ElasticNet(), RandomForestRegressor()]\n",
    "\n",
    "param_grid2 = [\n",
    "    {\n",
    "        'alpha': [0.2,0.3,0.4,0.5,0.6,0.7],\n",
    "        'l1_ratio': [0.1,0.2,0.3,0.4,0.5]\n",
    "    },\n",
    "    {\n",
    "        'n_estimators': [80,90,100,110,120],\n",
    "        'max_depth': [4,5,6,7,None]\n",
    "    }\n",
    "]\n",
    "\n",
    "models_best_params(models = models2, param_grids = param_grid2, X = X_train_sc_pca, y = y_train)"
   ]
  },
  {
   "cell_type": "code",
   "execution_count": null,
   "metadata": {},
   "outputs": [],
   "source": [
    "models3 = [RandomForestRegressor()]\n",
    "\n",
    "param_grid3 = [\n",
    "    {\n",
    "        'n_estimators': [115,120,125,130],\n",
    "        'max_depth': [6,7,None]\n",
    "    }\n",
    "]\n",
    "\n",
    "models_best_params(models = models3, param_grids = param_grid3, X = X_train_sc_pca, y = y_train)"
   ]
  },
  {
   "cell_type": "code",
   "execution_count": null,
   "metadata": {},
   "outputs": [],
   "source": [
    "# FINAL MODEL\n",
    "\n",
    "best_model = RandomForestRegressor(n_estimators = 130)\n",
    "best_pca = PCA(n_components = 150)\n",
    "\n",
    "sc = StandardScaler()\n",
    "\n",
    "model_pipe = Pipeline(steps = [('sc',sc),('pca',best_pca),('model',best_model)])\n",
    "\n",
    "X = reduced_df_enc.drop('SalePrice', axis = 1)\n",
    "y = reduced_df_enc['SalePrice']\n",
    "\n",
    "model_pipe.fit(X,y)\n",
    "\n",
    "pred = model_pipe.predict(reduced_test_enc)"
   ]
  },
  {
   "cell_type": "code",
   "execution_count": null,
   "metadata": {},
   "outputs": [],
   "source": [
    "test.reset_index(inplace = True)\n",
    "test['SalePrice'] = pred\n",
    "\n",
    "submission = [['SalePrice','Id']]\n",
    "submission.set_index('Id', inplace = True)\n",
    "\n",
    "submission.to_csv('submission.csv')"
   ]
  }
 ],
 "metadata": {
  "interpreter": {
   "hash": "ec86887c1b68a826eb7e8a9863dab2e05fc23100eabd489883cb94169ae53c42"
  },
  "kernelspec": {
   "display_name": "Python 3.9.9 ('ml-env-repo')",
   "language": "python",
   "name": "python3"
  },
  "language_info": {
   "codemirror_mode": {
    "name": "ipython",
    "version": 3
   },
   "file_extension": ".py",
   "mimetype": "text/x-python",
   "name": "python",
   "nbconvert_exporter": "python",
   "pygments_lexer": "ipython3",
   "version": "3.9.9"
  },
  "orig_nbformat": 4
 },
 "nbformat": 4,
 "nbformat_minor": 2
}
